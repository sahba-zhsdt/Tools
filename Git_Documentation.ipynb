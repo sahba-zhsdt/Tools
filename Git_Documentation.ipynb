{
  "nbformat": 4,
  "nbformat_minor": 0,
  "metadata": {
    "colab": {
      "provenance": [],
      "collapsed_sections": [
        "Hu-Xxepf74XF"
      ],
      "authorship_tag": "ABX9TyM6Znxiz1ts/gX4SXztqQW8",
      "include_colab_link": true
    },
    "kernelspec": {
      "name": "python3",
      "display_name": "Python 3"
    },
    "language_info": {
      "name": "python"
    }
  },
  "cells": [
    {
      "cell_type": "markdown",
      "metadata": {
        "id": "view-in-github",
        "colab_type": "text"
      },
      "source": [
        "<a href=\"https://colab.research.google.com/github/sahba-zhsdt/Tools/blob/master/Git_Documentation.ipynb\" target=\"_parent\"><img src=\"https://colab.research.google.com/assets/colab-badge.svg\" alt=\"Open In Colab\"/></a>"
      ]
    },
    {
      "cell_type": "markdown",
      "source": [
        "# **Git Documentation**"
      ],
      "metadata": {
        "id": "Hu-Xxepf74XF"
      }
    },
    {
      "cell_type": "markdown",
      "source": [
        "## Create Local Repository\n",
        "\n",
        "1. create a new folder\n",
        "2. add or create your code files\n",
        "3. while you are inside the directory, run `git init` and a **.git** hidden folder will appear\n",
        "4. look at the image above; you need to `git add` to start the progress. you may choose a specific file by `git add <name of the file>` or to choose all of them by `git add .`\n",
        "* don't forget autocomplete by tab bottom\n",
        "5. then you may continue to complete the process by `git commit -m \"message of the commit\"` or undo by `git stash` (or I think `git cash`?)\n"
      ],
      "metadata": {
        "id": "jCiEI6uRopBf"
      }
    },
    {
      "cell_type": "markdown",
      "source": [
        "## Remote Repository\n",
        "\n",
        "1. in github or gitlab create a repository; it can private or public\n",
        "2. now there is a SSH code or HTTP code; copy that as the url\n",
        "3. in the local repo, run `git add remote <url>`\n",
        "4. the master branch is created (origin/master)\n",
        "5. if needed, create more branches with `git branch <name>` and then `git checkout <name>` or alternatively, just use `git checkout -b <name>` in a single try.\n",
        "6. to publish your local files, use `git push -U origin <branch name>` or `git push --set-upstream origin <branch name>`\n",
        "7. install **git graph** as an extension in vscode; so you can perform add, commit and push easier. Also, you can visualize the graph of changes in collabration with others."
      ],
      "metadata": {
        "id": "3ckUP0qVq0W8"
      }
    },
    {
      "cell_type": "markdown",
      "source": [
        "## Update you local data or your branch\n",
        "1. look at the image above\n",
        "2. stay at your branch and run `git fetch`: it will downloads all new stuff from all existing branches\n",
        "3. remember that you will stay in your branch and you want to **merge** specific branch to yours if you want. so run `git merge origin/<branch name>`\n",
        "4. **HINT**: you may encounter conflicts if the same lines of code have been changed.\n",
        "* Q: what if other lines changed? according to chatgpt, you can run `git log` or `git diff` to observe changes; however, I prefer to see these changes as I see the conflict lines.\n",
        "5. in vscode, you can enter conflict manager using the blue botton bottom right and observe them.\n",
        "6. if no *conflicts* were detected, it will automatically ask for a message to commit the merge; however, there are some changes!\n",
        "7. so up to here, you used fetch+merge to add new stuff to yours. in case you want to use `git pull`, you should remember that you need to specify the type of merging in config once for this repository. I mean, if you just write `git pull origin <branch name>`, a message in yellow color will appear. you need to choose between:\n",
        "* merge (the default): `git config pull.rebase false`\n",
        "* rebase: `git config pull.rebase true`\n",
        "* fast-forward (simple rabase when there is no update in the branch which is being merged into): `git config pull.ff only`\n",
        "8. usually, we will go with default one but the same question pops up with this command too: **Q: what about changes other than conflicts?**"
      ],
      "metadata": {
        "id": "wiLNuo07uEpZ"
      }
    },
    {
      "cell_type": "markdown",
      "source": [
        "## Pointing to another/previous commit\n",
        "\n",
        "If you need to revert something use `git reset`; it has 3 types:\n",
        "* `git reset --soft <commit hash>` : reset pointer and it keeps changes in the staging area\n",
        "* `git reset --hard <commit hash>` : reset pointer and discard changes. be careful when there is collaboration on the same branch\n",
        "* `git reset --mixed <commit hash>` (deafult) : reset pointer but unstage the changes in staging area\n",
        "\n",
        "note: or use **HEAD~** instead of `<commit hash>` if you want to undo just one step before.\n"
      ],
      "metadata": {
        "id": "WuxDRQcs8xpF"
      }
    },
    {
      "cell_type": "markdown",
      "source": [
        "## GitHub\n",
        "\n",
        "1. when you are on your branch, you will notice that how much you are ahead or behind the **master**. Generally, you can click on Contribute and look for either comparison or pull Request (PR) among each branch.\n",
        "2. by creating a pull request, you will set a reviewer and a asignee to reply to you and discuss on the merge action to master branch. so, something is done in a branch and now people discuss about merging it to anotehr branch (often master)\n",
        "3. you may need add some protection to some important branches from Setting> drp-down Branches\n",
        "4. let's say you have an issue, so you create one and select an asignee. the asignee can comment and solve the issue or if **development** is needed, create a temp branch and develope code and then merge it via PR. if needed, delete the temp branch at the end.Alternatively, asignee can link the issue to an existing PR."
      ],
      "metadata": {
        "id": "0CeU8Gw7-_c3"
      }
    },
    {
      "cell_type": "markdown",
      "source": [
        "## .gitignore\n",
        "\n",
        "I have created my JAX-FNO repo in github. Modulus was in the local folder, which was connected to the github. I did not want to be tracked since it caused some issues (it was cloned from another repo). I created a .gitignore file in the root and add the name of the folder I did not wnt to be tracked to it. whenever I commit the whole thing, modulus will not take into account.\n",
        "\n",
        "next step: let's see how to manage this cloning from anotehr repo."
      ],
      "metadata": {
        "id": "oF_F4jJS2EVn"
      }
    },
    {
      "cell_type": "markdown",
      "source": [
        "# set up git in yasu\n",
        "\n",
        "so i had a local file \\\\\n",
        "i did git init \\\\\n",
        "a added remote JAX-FNO \\\\\n",
        "I used git checkout CandT \\\\\n",
        "I used git pull and the push.\n"
      ],
      "metadata": {
        "id": "5JafZa_Pgwiz"
      }
    },
    {
      "cell_type": "markdown",
      "source": [
        "# set up git in ursell\n",
        "it was the same process. I though not being a sudo will cause a trouble. but it did not. the issue was the connection of the VScode to the github which was ok after trying alternatuve ways."
      ],
      "metadata": {
        "id": "upNNicq5hRIp"
      }
    }
  ]
}