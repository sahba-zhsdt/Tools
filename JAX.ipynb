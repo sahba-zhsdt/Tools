{
  "nbformat": 4,
  "nbformat_minor": 0,
  "metadata": {
    "colab": {
      "provenance": [],
      "authorship_tag": "ABX9TyMpvoQT2knvS9YOKyobvsSn",
      "include_colab_link": true
    },
    "kernelspec": {
      "name": "python3",
      "display_name": "Python 3"
    },
    "language_info": {
      "name": "python"
    }
  },
  "cells": [
    {
      "cell_type": "markdown",
      "metadata": {
        "id": "view-in-github",
        "colab_type": "text"
      },
      "source": [
        "<a href=\"https://colab.research.google.com/github/sahba-zhsdt/Tools/blob/master/JAX.ipynb\" target=\"_parent\"><img src=\"https://colab.research.google.com/assets/colab-badge.svg\" alt=\"Open In Colab\"/></a>"
      ]
    },
    {
      "cell_type": "markdown",
      "source": [
        "# **JAX**\n",
        "* [Official Documentation](https://https://jax.readthedocs.io/en/latest/installation.html)\n",
        "\n",
        "![jax.jpg](data:image/jpeg;base64,/9j/4AAQSkZJRgABAQAAAQABAAD/2wCEAAMCAggICAgICAgICAgICAgICAgICAgICAgICAgICAgICAgICAgICAgICAgICAoICAgICQkJCAgLDQoIDQgICQgBAwQEBgUGCgYGChANCw4NDQ0QDxANDg0NEA0QDQ0NDw4NDQ0NDQ0NDQ8NDw4NEA0NDQ0NDgsQDQ0NDQ8NDhANDf/AABEIAMACaAMBIgACEQEDEQH/xAAeAAEAAAcBAQEAAAAAAAAAAAAAAQQFBgcICQMCCv/EAEkQAAICAgADAwUNBQYEBgMAAAECAAMEEQUSIQYTMQcUIkFRCBUWIzJTVGGRkpPR0kJSVZTTCRczYnGBJDRDY3JzlbHh8DV0ov/EABwBAQACAwEBAQAAAAAAAAAAAAAGBwMEBQIBCP/EAEERAAIBAgMEBwYDBgUEAwAAAAABAgMRBCExBRJBcRMiUWGBkfAGFKHB0eEykrEWUlOC4vEHFSNCYnKiwtIzQ7L/2gAMAwEAAhEDEQA/AOqQEjEQBERAEREAREQBERAEREAREQBERAEREAREQBERAEREAREQBERAEREAREQBERAEREAREQBERAEREAREQBERAEREAREQBERAEREAREQBERAEREAREQBERAEREAREQBERAEREAREQBERAEREAREQBERAEREAREQBERAEREAREQBERAEREAREQBERAEREAREQBERAEREAREQBERAEREASEjPHLylRWdiFVQWZidAKBskn2AdYBJ8U7SY9BUXX00lt8otsRC2tb1zEb1sb17RJH+8HA+m4v8xV+qaTeVrt6eJZtl/Xul+Lx1O/RqXwOj4NYdu3QeIH7Ms8KPYJZGG9kN+lGVWo4yau1a9u7X0yJVdu7s2oQur5O/wBjoT/eDgfTcX8er9Uivb/BJAGZikkgAC+skk9AAA2ySempz15R7BLq7F8K1vII+SSlPTxs0OawfVUDoEf9RlIPxZE9V/ZKlSjvdK+7qrXz9I3dm7Qr4/Eww1OmryfbouLeXBG8h7a4f0rH/FT9UfDbD+lY/wCNX+qagsBIa+qaf7Mw/iP8q+pb37Mw/iP8q+pt98NsP6Vj/i1/qk5w/j1N2xVbXZrx5HVtf66Jmm9dWyAB1J0P/p6f7noJhngvul3w+O051Ls/D8feKyLvV+JYynIyAoJ5rGcLdUdFjVVSnQs28FX2btF9FNuVm7W+GurMNX2atF9HNuVm7W+GvE6eiRkrw3iKW1pbWweuxFdHU7VkYbVgR4gggyakIatqQhq2RBm1KKe2uH9Ko/FT85anlo7a+bY/dI2rrwVGvFK/B2+onfKD9ZPqmtfdiSfZmxXi6bqTluq+WV7km2ZsV4um6k5bqvlle5t/8NsP6Vj/AIqfnHw2w/pWP+Kn5zUDkEilOyABskgAe0nwnX/Zqn/Efkvqdd+zVNf/AGPyX1NyeH8fotJFV1dhHiEdW1/romT85fY/ukbMPjtGZjsXwsMtjPWhJXKx7SozLgAPSZnRbKCPlLjY42vPZOmnBONVZFNWRQ6203VpbVYhBV67FDI6kdCGUgiRvaWzJ4JxesZLJ/J99rP+xHNp7MlgnF3vGSyeng++2ZPRETinEEREAREQBERAEREAREQBERAEREAREQBERAEREAREQBERAEREAREQBERAEREAREQBERAEREAREQBERAEREAREQBERAEREAREQBERAEREAREQBMAe6l8pHdUrw+ptWXjmv0fk0epD/AOad7/yK37wmbO0fHUxqLL32VrUtyqNsxHgij1sx0APaZoh2oXNzMi3JtptNlrlj6DaUeCovT5KKAo+oe3cmHs3gIV8R01VpRhnm7Xlw8tfI4G18S6dLo4ay+C9ZFtNISpfBrI+Yt+435R8Gsj5i37jflLh6en+8vNEE3Jdj8iW4bw9rbErXW3OtnwUAEsx/yooLH6gZkYVqoVEGkQcib8eUEnZ/zOxZ2/zMZT+zPZt6ay7oy23DShhorSD46PUG11+r0EHqsMqgxG9n/tODiMXTqT/ErLJZrXi/l59peXsRs+jhKLxlaUVUnkk2rqHjo5P4WPiJ6ebN7P8A2/OeWW61o9tp5Kqke21/HkrrUvY2gdnlRSdDx1qYOnp/vLzLQ97ocKkfzL6mOPLr2580xO4rJF+aGQEHTV4w2t9g11BtP/Dodjob2BDVLvWkNKv227UPnZVuU4K94QK6yd9zSnSqnxIJRerEHTWNY/TnMo03qUHFZ6vN/Tw/W50qcN1Z6vP7eX1N8P7P7y199Q/BMh/jcRTbgknq+IW9OnqfHGsYBQAAKbK1G+7bW4GdmrWjWOeVEUszH1BRsn7Jxo7G9r7+H5ePm4zct+NatqddB9fKqfofi7ULVv0J5WJGiAR0b7ceVkcS4dhvhrYas2mvJsPKQVU7Hct7GFgYMP8AJ7D1r/a+x28XGVPKM3n3Pj5687lf7X2O3i4yp5Rm8+56vz153LH7adp2zMmy9vAnlrX92td8o+zqfrJlCWTK8It+bf7JEcKt+bf7JMKXR04KEWrJWWZMaXR0oKEWkkrLMlpjvy4duTh4ndVsRk5geusjmBroAC5FvMNcrEN3FZ5geZ3cbNDTJWViGtHstBrqqR7LbGB5a6q1L2WN9SIrMf8ASab9u+2DZ+VZksGVW0tNbEE1UJ0rr6bHNrbvo6a17GHypmjapKyzWr+nrhzM0LVJWWa1fr1kUBBqbz/2f3lt567OCZDenQGvwCT40EjvccbPjS7c6jp8XZygaqOtGZU+y3aa/CycfMxmCZGNat1THw5l6FW9fJYhat9dSjsBre542jgo4yhKk9dU+yXD6PuMe0cFHGUJUnrqn2S4fR9x2k3Iy1PJZ5QaeK8Pxc+gEJk1B+Rvl1uPRtqfWxzVWBkOiRtTomXXKVnBwk4yVmnZ8ylZxcJOMtU7PmIiJ4PAiIgCIiAIiIAiIgCIiAIiIAiIgCIiAIiIAiIgCIiAIiIAiIgCIiAIiIAiIgCIiAIiIAiIgCIiAIiIAiIgCIiAIiIAiIgCIiAIiIAkCZGWV5XPKCvDcKy/obT8XQh/atYHl6etUALt9SmZqNKVacacFdtpLmY6lRU4uctErmBvdT+Ujvrl4fU266CHvI8Hu/ZT6xUDs+rmYetJgTX1Ce2Rks5LOxZmYszHxZmO2Y/WSSTPKX/s7AwweHjQjw1fa+L9cCsMViZYiq6j4/pwGvqE+bsqqpLLrulNKd5brQZhsKtaH5y6xkqT2M4Y9FYiO5jLy1dpvSXBrb0aT3mVrXXJ0QtR/wD1UZlYb6X2XqRupDNXa+MWEoNx/FLKP18P1sc3EV1Rpub8OZavHc6ziqXm4K2ZV3mVj6Xo1AHNk4VYJ2EprUZGPXpuVaslRtrhvGYx1/dX7BLswM96nS2tillbq9bDRKuhDK2jsHRA6EEHwIIkO3PCUV0yKVCY2WGsrrXwotUgZOKOg0KLGBrB6nGtxmPVzKims7kdhWdWN2+ste9dvh9C1PN1/dX7BJ3gfEmxrqsinlW2lw6Ej0TroVcDXNW6ko6b06MynoxktE+HuNSUWpRdmjIfHsGtWSyjm82yKxdj8xLMiElXx3Y/KtxbVehjsl1Wu3wuWUyenYLK75XwD8q1++wydDlywoVqdkr0zqlFAGyDk14ZIAV2ngLRrm301vZ6dPHf1dJZey8Z7zRW9+JZP6+P63P2d7IbeW2dnxqyf+pHqTX/ACS15SWfO64FV7P8LW2w94SKKka/IZflCisqGVOo+NuZkoq6/wCNbXvpzTM3kN8pjXX24l/KO+Y24aj5FJRApw6/DVQoRBSuuhobe2vJOJeNIcelcTXLaxS/M8QQ/KTjYx2F/wCXqsNlq9QMi90OzjLqjYuSyMroxR0dbEca5ksrYOjrvY5kZQwOuhAm9Kn0vW8vr4//AJJa4dJd+X18fijdlgJDUonYntcufi1ZK8oZvQvRfCrJQL3qAbJVTzLbWD17qyvqTuTfaPtDXiY9uTaOZKV5uTeja5PLVSp9Rtchd/srzP4ITNfeVrvy7+zzyMF8rtf37PPIxj5ePKPZjGnFxX5L+avJvcdeVEYPj0MNaZbXAvtTY3WlAIK3MJhXtJgorJbSOXHyVa3HUkk18rcl2OdgHmxrd1g+lz0mi3Z74SV4vxazItsvubntudrLG1oFmPXlGzyqOiquyFUKo6ASp9mwLlbCY6N1i2YpJ0FzAvIqbLKAuYmsVt9O981Y9KZnjT6Nb3Hj67v0vxM0afRre48fXdw7u8oMunyW+Tm7i3EMbh9Gw17/ABlg/wChjpo33nex6CdF2CDa1anXNLV/2I9oIII+og6II9YIBE6K+4S8iJwMBuJZCay+IqjVhgQ1OEOtKEN1V7iTc/RTpqkI3Vs6W1cesHh3UX4nlHn2+Gvw4mjtXHLB4dz/ANzyjz+2vw4mx3ZXs1Th41GLjoK6MepKakHgqIoVR9Z0OpPUnZlWiJTDbbu9SmG3J3eoiInw+CIiAIiIAiIgCIiAIiIAiIgCIiAIiIAiIgCIiAIiIAiIgCIiAIiIAiIgCIiAIiIAiIgCIiAIiIAiIgCIiAIiIAiIgCIiAIiIAiIgHy5mnHl67TZHEM1hXTecbG3VTqqzldt/GWj0dHnI0p/cUEfKMzV7o/yk+ZYfcVtrIywyKR4pV4W2fUSDyL9bb/ZM03Esj2V2ZJ3xjtxUbrzeq5eZEttYxf8AwLm7fBfMqPwcyPmL/wAGz9MfBzI+j3/g2fplO3Puiguyqo2zEKo9pJ0B9ssh9KlduPk/qRK8ex/A8O1XEX4fjvlWVurqQmMttbKLMlgxr6MAGWkK17jwIrVDrvQZrLbcSSWJZmJZmYlmZidlmY7JYk7JJ2T1mU+0/b6rKyXwjYo4eV7iu0gcqZKna8R348pv2jHofMGK65gNYvzcN63euxSllbtXYh1tHRirqdEjasCDokdJU+08dLF13J6LJcu3x1IrtKsqkluPqq68eP2PGXB2eqGQj4LkAZBVsZmJC1ZygrQxPgtd4ZsW0kFQLa7T/wAuhFvzZj3DnkR98uI+fXpvD4ayuN+Fub0aivRHUUj49vDTCkdQzTj1ZKMbswbNoVMRiIUqerdvDjfusa0f3ccS/hvER9RwcrY+ojufESP92/Ev4dxD+Ryv6U2O/tAPIUeHcQHFMddYnEnY2hei05wBawdNdMlQ1w6fLS/Z6qJqj3h9p+0zXhLeVzr4zCxwtaVGad0+1acHoXAnk84kCCOH8RBBBBGFlggjwIIq2CD1BHUTJt3B7FC8WysaynbEWY2RS9He8VXRGqrVqZ8bI/8AyVhXmT0MvH3tUBwjzn2n7ZcfYjjSJY1N7cuNlBarn6nuWB3RlAAjrjW6ZvEvQ2RUP8Uzq4DFPD1U2+q8pcvqvWpLPZDb0dk45NtqlO0J55Wb/Fos1+lyfvvZmZnYu7Es7sds7sdszH1szEsT6ySZ8T34hgPVY9Vq8llbMjr7GU6Oj+0vrVh0ZSGBIIM8JaSs1dH7Gi00mtDIvkO7c+aZfc2NrHzClTkn0artkUX+sABmNVh6arsLHfdIJUvdBdtu/wAkYVZ+Kw3bvda9LM0Us/l1JoHhy2HI8Qy6sbs4O5Vs065qnFeKpAIfMI5lsI03o4SHzk+AN/miE6taffGj5xUuX1NqFMfM2SzNZyHuMpjtjrJrQ12M2t5NFjHZyE3ptLpd7hp/N/bLnbiarj/qX4f+X9sufeW9IH/7o6P+xHUH6x4SMBSSAoLMxCqqglmZiFVVA6lmYhVUdSSB65um4Z48gfkcHaHimPc4U4yHvuLoOUfHVEFQFAHocUPLa2kK868QXm9GvfTumoABQAAAAAOgAHQAD1AD1TEfuXPIqOC8KqpcDzy/WRmsNH49wPigQBtMdAtKnQ3yltbczMAlObYx3vVe0X1I3Ufr9O6xTm2Md71XtF9SN1Hl2+P6JEYiJwjhCIiAIiIAiIgCIiAIiIAiIgCIiAIiIAiIgCIiAIiIAiIgCIiAIiIAiIgCIiAIiIAiIgCIiAIiIAiIgCIiAIiIAiJAmARieffj2j7RHnA9o+2fbHy6PSJ5+cD2j7RAuHtH2iLC56RISM+H0SV4nxFKa3tsYLXWrO7HwCqNk/YJMkzXz3UnbW3kTh+Oljc+rMlkR2AQf4dW1XXpH0mG/BQP2p0MBhHi68aKyu832Li/XE1MVXVCk6j4ac+BgLyldtn4hmW5LbCk8lK/uUqTyLr1Ej0m/wAzH6pbEnfeS75m78Kz9Me8d3zN34T/AKZf1GNKjTjTg0kkks0VnUc6knOV7vMkpbnlH7TeaYhCnV+WHqq0etdGimRd08CwPm6dRvnvYHdIl6Y/Z+0n0qrlUBmdu5sYqiKWdgoXbkKpIRfSc6UAkgTBHbXhvEczJsvOBnKp0lNfmuQRVQnSusHu9EhfSdhoPa1j6BcyNbf2jGnS6CDzlrZ6R++nK5zMbUlSp9VPeeSy836+RY3PLm4wfOsdcrxuxxXj5ftevQTEyT06kqvmtpJOmqx2JLZBkp8A8/6Dm/yl/wDTlV7N9ns7HtDNw/OsqdWqyKhi5A72izpYg9Do40LKmPRLkqfxQSuJNakXp055xcXZ93k/D9Llu9n+A3ZV9ONjobL77EqqQftO55Rv2KPFm8FUEnQBnYDyL+S2ng/DsbAq0e6TdtmtG69/SutPr9J96GzyoFUdFAGsHuIvc4HFycjimauzUzUcO515OdHUF80VsS1Zsrda0VtPXu9T4zdMXD2j7ROXiam891aFqey+y/dqbxFVWnLJd0fu/hYs/wAsXkvo4xw7K4ff0W+shH0Cabl9Km5f81dgVtesAg9CZxi7V9lb8HJvw8lO7vxrXptXrrmQ65l2ASjjTo2hzIyt653ONo9o+0TRv+0N9z89/c8awqnttXkxs6qlGsexCdY+QETbMayTVZpWJRq2JC0meKE912ehte0ez/eKSr0/xR17XH7a8rnP8xLg/u84h9Azv5PJ/pyH93vEPoGd/J5P9OdK5Wfu9X9x+T+hcGNl+dYot3u/EWujI8OazG2teJknwJNBKYNh0xCHB6nbkeHDuHvdZXTUOay11RB4DmY6BY6PKi/KZz0RAzHQUkfHZjs5xDGuW33uzrE01d1XmmSouotBS6kkV9OdCQreKPyOOqCXVxrgDcOW1X5jblKa8Y2JyWDh1i7fIsqYBqrctSMXunrVqwmeh1usmc7Gx3SU+gb6y0/6f6f0sfqX/D/bs8Zgvc69+lpWSun1oaJ567uj7rFI7R8QRmWuk7oxl7mk9R3umJtySuyA2VYTbrxWruayT3K68OAcWWqw96rPRahpyUXXM1DlSxTe/jaXVMinw+Oqr6gFpTpCSfcW7u+v7lrqKtu+v7k5xfhT0WvS5VmQj00O0sVlD12oeu67q2S1CevI670dibJ+4T8inn+e3E703icOYdzzD0bs1htdbPpLioe8O1I72ykg7qcDCPZjsvfxUUYeOobNqZaqQfCzEttA9I+J8xtsNugQfNbbdAjFAnVnyV+TmjhOBjYGOPQorALEANbYx5rbn1oF7bCzsfaZE9u7SdCh0KfXllyjxfjp58URXbu0XQodCn15Zco8X46efFF2rPqQkZVxVoiIgCIiAIiIAiIgCIiAIiIAiIgCIiAIiIAiIgCIiAIiIAiIgCIiAIiIAiIgCIiAIiIAiIgCIiAIiIAiIgCIiAIiIAlt+UPtpXw/EtyrOvIukX1vYx1Wg/8AExG/YNn1S4zNPPdLeUjzvKGLU26MQsp0ej5Hg7fWKx6A+vn+qdvY+znj8TGn/tWcn3ffQ52PxSw1Jy46LmYm4xxR77bLrW5rLXax29rMdnXsA8APUAB6pJ6kSYl8xpxikkslkVq5yebeZDUkuJ+U67hWRitiNrIqsrycgbGmrI3XhuepC21MbbRr/qY5GmqYScyc9Ka7MiwBkpXYQnQttbpVRvRPxjAltdVqS1/2JhXiOc9rvbY3NZY7O7HxZ3JZj7Bsk9B0HgNACeeghXbhKN4rXvbWnln5GSE5QW8nnw7u/wBd5117CdsqeIYePm47c1WRUti+1dj0kYfsvW20ZT1DAiV+aH+4U8svm+S/CL31TlE24hJ6Jkgbsq6nQF6DnUAAd4jeJtE3u5pQ+2NnS2fipUXprF9sXp9H3lj4HFLE0lPjo+frPkUHt32wrwMW7Ks8K12q70Xc9EQfWzaH+mz6poTxrtHdkW2X2uxstcu5BOtn1D/KBpQPUABMte6b8pPnOUMOpt0YpPPrwfI1pv8AUVA8g/zF/ZMJmWR7M7LWHodPUXWnnyjw89fIiW18Y6tXo4vqx+L4/Q9fOm/eb7THnj/vN94zykziIoD22DddIDMNkc5JASkEdQbXIBI6qgsf9gyW1p06MHUmlZK5H3NpXbyWfgSvabiTV1LSGbvLgttvpfJq+VTV7QbDq9/D0Rj+1xLSNx9p+0z1z89rXaxzt3Ysx9pY7Oh4AeoKOgGgNACeEqPE1niKkqsuL8u7wRAMXipV6rld20XL1nzPrvj7T9pk9wfF7x9O7LWqmy5weq1Lrm5dnXO5K1Vj122Vj17lOJlb4ipoqFHhY/Jdke0ejuig/wDlqxtcdPjLApG6BNVpGCm3+J6L49i9cLlP4vxA3WNYyhd6CoOq1ooC11qfWtaAICepA2epMke4X2CehMT6lYxynKTu3mefcD2CZX8mfZsU09+Rq3IHo+rlxwdqfqN7AWHr8hKSNc7A2R2M7N+dXhGB7pB3l5Gx8WpA5AfU1rEVjqCAzN15DMzWW7JPQb9Q6AAdAoHqVRoAeoACdvZmG6SfSS0X6+vkXl/hh7O+9Yl7TrrqU3aF9HUtm/5V/wBz7gbD7T9pkO8PtP2mQiSvdXYfqbdR45/E0prsutdlqpRrbWGyRWg23KB1Zj8lF/adlXxYTVvj/amzirZD29L6zZkYq7GlxFUd9hA7BY49SLk1nTFu7zT8q9Qb690X21+Rw6tvApdl618rXPj0H2cgIyHUj5TUeBrYTCuBmvU6WVsUsrdbEYeKujBlOvA6IGwehHQggkT7Tp36614eu/T/AKT7Tp73XWvD5+enI8C0ASs9o+HoCl9ShaMkGxEX5NFgIF+IDoHWPYQK9gFsezGc7Nmz59neFJa5N3MMalDdklTysalKr3aNsatvsZKKzv0XsDeCMRt9It3e9cufDmbW+t3e9cvlzK3wHtBfwxaMnGfu865q76n0ficWmwPWGHonWddWC4B9LFpUAhcszqr5H/KbTxjh+Nn0eityHnrJBam5CUupbXrrsDLvwI0RsEGch+K8Xa+2y5woexuYhRpVAAVEQepK0Va0HqRFHqmxfuHfLf738Q978h9YnEnVULHS05uuWpvqGSNUts67xaAB6TGRbbmzniKHSxXXjd81xXhquT4si23dnPEUOliuvG75rivDVcnxZ0hiQEjKsKsEREAREQBERAEREAREQBERAEREAREQBERAEREAREQBERAEREAREQBERAEREAREQBERAEREAREQBERAEREAREQBETzvuCqWYgKoJJPQADqST7AIBj7y4+UA4GE5q2ci74qgAbKkj0rNDfStdkeotyj1zSQ4Vh2SlhJOySrEknxJOupPtl7+V3yn2Z+bZbXZYlCfF0BXZd1r+2dEdbG2/X1FR6pZnvzd89d+LZ+qXVsHZs8Fh80t+WbvquxeH6lebSxccRV47qyXzZ5eYWfuP9xvygcPs+bf7jflPX35u+eu/Fs/VKlw7i91aNebbSdmukG1zu0j0rNFuopU7+qx6vYZIZ1KkVfK+i119fA5SUX2mK/Kdm2vaMVK3NWNvnZUcrZksNWuCB6S1D4hD4ehY69LjLJPDLfmrfw3/TM9Nxu75638V/1SHv5f89b+I/6ps0ZVKcVGy783m+L0PsnFu+ZgvDx8it0srW6uyt1srda35kdCGR19E9VYAjx8PXOhuB7pDv8AgCZqry57/wDDNSFO68oDT2cvj3YX45d+Ksg8Tqa00cVyGIVbbmZiFCix9knoAPS8SeknOL8esBWtLrCtQK8wsf4xyd2Wb31Bb0U/7ap02W3w9q4CO0J0lUSvF73H8PGLy4u3xtxN7C4t4dScL5q3j280Ut8Ww7JWwknZJViST1JJI2ST1JM+fMn/AHH+635T29+bvnrfxH/OBxm75638R/znYXSLJJfH6HO6veePmT/uP91vykr2totBXHWuwrV6VpCMQ2QRpgCAQVoX4pdHXP3zDYcT47WeUC3CxnvF9nfNunFBsbffEAtdok7XFQ95vRHetjqRpzrB/bXtPluK82vLylTIJTIRci8LVmooa0KOYKteQhGTWq+ipa+pQBj6ED9oNoSclhlayzlZ8eC8NefI5eOcJQdFSaertbT1nyMojhVvzVv4b/pj3qt+at/Df9M1++G2b9Ny/wCZv/XI/DfN+m5f8zd+uQ3pX2Eb9zpfvPyX1NlOA8EcFrrKXZKOVgjVvq21t9zURobQspssHrqrsHiy7p+RgXuzM1dzMzFmY1vtmYksx9HxJJJmHux3bnJsNmHbm5CrlhFrufJtHcZSFjjWF+ZilTszY9/gBVcbD1oSUDJ7V56MyPlZiOjMjo2ReGR1JVlYd50ZWBUg9QQRPPSO+hnlg6W4rSds+C178+z5mfPem35q38J/0yB4Xb8zb+E/6ZgD4bZv0zK/mb/6kzF7mzhmXl5LZd2TlPjYZBCtkXFbsphuqsgvp0qG77ATrpSjKy3HWem5VJKEVm3Y2tnbE9/xMMLRb3pNJZKy7W89Es33Gf8Asl2YbFoFbKRa5Fl55TsPr0Kt/wDYUlT/ANxrfURKt3R9h+w/lPZ+I2fOWffb858+f2fOWffb85YFCjKjBQVvv5H7Z2TsyGzMJTwdBLdhG3N8W8tW7t958d0fYfsP5Si9s+1SYGNZlWKG5AFqrbYF1777qrw2QSC9mhtaUtb9mV5c2zwD2H1AB32Sf95gHyr+Uhc3LbAe0eZ17oW5zzKmeD0zOY7PdVWf8IxHL/wzZLgnvRrK995edtbceH37DqPebs1z5cfWvYYczM57Xe21zZZYzWWO3i7uSzMf/ExJ0Og8BoATynpl4ro7V2KUsRmR0bXMjoSrKdEjasCDokbHiZ5zpq1sjprQrvZxhaGw2IAvZWoZjyrXmqOWkk70qZKk4lhIIBeiw/8ALrr744vm9a4etWbW/M2AGGRykV4raHhh1uwYFm1lXZK9O6SSvBLRSr5rqGXGZRQjAlbs1wTQhGuVq6ArZdoJ0RVVUdecqZDiOb51UubvdhYUZvhvzrlZkyTo71nVKXZiq7yqcsn5de+VLFU/elh287X/AJuC8s/LiRee3MLHai2Xvf6jhv24b3CPNx61uyz1ZSTAY+IJUjqGUlWUjqGVhoqwPUEEEHrIwFJ6AEk9AFBJJPQAAbJJPQADZM6xKDqf7lHy2+/XC63tYee4usfMUdC1igcl4HqTITVg8QG502ShmaZy68h/llPZ/iePXzDzQMaeLEaIe24qLLQQ3yeHOldSnqCteYyg+cgzqBj3hlVlIZWAKkHYII2CD6wRKd2xgfda14rqSu4/T5ruaKf2zgfda29FdSV3H6fNdzR6xETgnAEREAREQBERAEREAREQBERAEREAREQBERAEREAREQBERAEREAREQBERAEREAREQBERAEREAREQBERAEREAhMF+6i8o/cY4wam1bkjduj1TH6gj6jaRyj/KH+qZh7S9oK8Wi3IublrpRnc/UPUPaSdAD1kiaA9se2L5uVdlWsOa1thebYRB0RB9SrofWdn1yYezWzVisR0tT8EM+cuC+b+5wNr4voaXRx/FL4Lj9CkxPjvl9o+0R3w9o+0S57ogNmTOFiNY6ouuZjobOgPWWY+pVG2Y+pQT6pM8YyQzAJvuqxyVg9CVBJLkfvWMWdvZzAeCgD7Sxaqt7HeXghevyaN6LfUbmBQf9tH9VolMa8e0faJqxanPe4LJc+L+XnwZkasrdpGJ8d6PaPtEmeHY/eOF5go6lmPgiKCzufqRQW14nWh1ImxKcYpts8JNuxP8AD/iqzd+2/NXT7QNatt/2U90p9bM5GjVKWxkzxTii2NtdBFAStSRta16KD16serMfW7MfXJLvh7R9omGlxlLV/BcF4frdnufYuB9z0xcYuwVdbY669APazH1Ko2zMeiqCT0E8O+HtH2iWr5VO1Hm2J3KH47NVl303XiAlbW8ehyXBpU6/w0yAdcyGa2PxkcLRlUeuiXa+HrsNepUVOLnLRereJjnyl9shmZG6yfN6R3OMNEcyAktcVOtPkOTaQQCqlKzsVCUrs5l1nvMe9gmPlKtdjkE9xYpJx8oAEf8AL2H09dWx3yax/i7FHiU/UlKo3KTu3nchbrydTpXre/25Wy5FI4nwuyiyym1CltTtXYhIPK6nTDY2rDY6MpKsNEEggyWl69qEGRirlbAuxBXRlEkDnx+leJkk6HWs8uDYST0GF+1axNhHiVfziffX85q3tkzouF+tHNPNeu1aExLs7RbyqEzuptQpjZ3iWNgU+bZbElifOqkNdjdCcmix2O8lN2V75V/OJ99fzlc7J9rMem096yvjXI1GVWrIWahypLJvp3tNiV5NXh8dTXs6LA/GzLTi/wALWT7tO/1wPDhPCLL7a6KUNltzrXWg1tnchVGzoAbPViQqjZJABM3q7G9kK8DEpxKiGFS+nYBrvrn0brtePpv0UNsrUtSbPIJib3PHkkONZdnX8th9OnAsQhq7aXUF8+ojm+LvqYV0NsbSzI2NhCM5bkt2NhVbp5ccly4v5H6H/wAOtge7UpbQrrrz6sE+EeL/AJn8F3gRAkenrIUAFmZjpVVRtmY+pVUFifUAZKXJJXuXS5JZlk+V3t35hhk1ty5OQWpxiPFNAd/kD2GmtgEOjq6yk9QrCaqVoANAAADQHq0OgGvZrpLo8pXbj3wy3vG+5Ud1jKQQVoQnlJB8HtYtc41sNYV8EXVsTYoxsrvV+kvXG5sUo2V3q/VvXG5X+Lnzihcre7ae7x8skklwRyYmSTo7Lovm1rFv8SqljtsnZomLiPY6V1qXssda60HizuwVF2eg2xA2SAPEkAEyc4BxUU2czKXqdHpvrHRrMe3QtVT05bBpbKm2OS6up+vLqTfaCr3trtZrFN2Sr04NgIAbEtQd7xGsdSovosXGp9IEG7M/bxgRqYnExwlOUpcNO/u8H8ORx9r7UpbJwlTE1dIq6Xa9FFePlHkW3264sjOmPSwbHxQ1auPk5FzEec5Y6k8t7qoq2djGqxlIUoRPDsXx5KbWW7fm2QncZIUczLWzBlvRSG3bi2qmRWANs1fJ4WMDbXna/vL9o/OBmL+8v2iVm68nPpL9a979+tz8X1Np4qeNe0HJ9Lv79++9/LhbsL94lw16bHpt5e8rblbkPMjdAyvW37VdiMtlbdOat0b1yq8A+JRsw651Y1YYOjvK0rPkAHfTBrdbQSuhk2YfX5Qkt2UVuI0101FXzMQJV1c6fAZ9Ja59LS8Pts5LHC+jiXVHXLiHUe0fEkd1Skscahe5xuYaLICWe5l6asybWe9hoFQ6V/JqQCysJio4ulFr+b5rx4f8bn7K2HtentfBU8RDJtdZdklk4+L0/wCJSq+n/wAzoT7gvy2+eYTcKyH3k8PUdwWJLW4RPKnU+LY7fEt1J5O6Ynbmc9pcnk28oF/Cs/G4hj9bMZ9lN6F1LejdQ3UDVtewObYVwj6JQTxtTArGYd0/9yzjzXyehvbUwKxlB0/92sef30+J2TkZRexvaynOxaMzHfnoyKktrb/K43oj1MvVWU9QQR6pWpS8ouLaeqKYlFxdnqIiJ8PIiIgCIiAIiIAiIgCIiAIiIAiIgCIiAIiIAiIgCIiAIiIAiIgCIiAIiIAiIgCIiAIiIAiIgCIiAIiIBb/bvsmudiZGIz2VC+pkFtLtXbUxHo21uhVldG0wII8NeBM5Ids+I8Y4fl5GFk5/EFvxbWqs1nZfK2uqWJ8cfQtQranXfK43o7A7HTTL+0I8h/fUJxvHTduKopzgo6vibJS89Ds4zsebw+KsdiT3SiTn2U2jChiPd6qThPS60nw89OdjhbWwzqU+kjrH9Ptr5mkp8oHEf4jxH+ey/wCtA8oHEf4jxD+ey/60oMS6+gp/uryRDN5mQG7eZ+Ricwz88X4Y5beXMyQbcR7Pi7jy3Dmsxrn7i1ypLVW4xJ+JsMtz4f8AEf4jxD+eyv60keB8Xai1LVUPy8wetjpLqnVq7qX6H0LamasnRI5uYaKqR6douELTbyoxemxVux7G0Gsx7N8jOBrlsUhqrV0OW6u1deiJqwo04TcN1WeayXivnydloenJvP169cSa+H/Ef4jxH+ey/wCtKj2f8qWfTar2Z3ELaiGS6s5uSS9NilLAha70LQpLVWAg12hG30INoxNiWGpSTTis+5HlSZeHH+1PEaLWr988910r12DNywt1Nih6blHe9BZWyvrxUkqdFWApvw/4h/EeIfz2X/Wn3jf8RjGvxvw1e2nw5rcQlrMigb0ScZ2bMQbb4ps3p6CCW9MdKlBrdlFXWTyXg/FZ87rgfZN6orw7f8Q/iPEP5/L/AK0nM3Nszcc2WO9uVhr6b2M9lt+Gz9HZ3Zmd8O2zlYnqaL6+oXFMtWTvBeLNRalqgMVJ5kYbS2tgUtpsBB3XdUz1P03yudaOiNHaWzaeKw8qcUlLVO1s/pwNWvSVam6cuP69pIGJV+0/BlqsBqJbHuRb8ZmILGhywCvokC2l1ei0fO1Wa2NE3V5B/JJZxriePgrzCtj3uVYP+li1kd6wPqZ9ipPH03U6IB1SlRdHdTya1ILHDVJVlQS6ze7bv9fA2z/s/fIWEps41k1+nkK1GErg9McMO9v5T0JusXlQ6PxdfMDq0zcf3qq+br+4v5SPCOFV0VV01ItdVSLXWijSoiAKqqPUFAAEm9SPTm5SuX/s/AQweHjRitFm+18X64Ep70VfN1/cX8o96Kvmq/uL+Um9SM8XOjuR7DSr+0R8mWYmLVxnh2TmY4xAKc+jFycmms47Me7ye6psVA1Fjctj8o3S5ZmIoTXPo+UfiX8T4l/6hmf1p3N4zwivIqtouRbKbq3qtrYbV63Uq6kewqSJxX90H5G7OA8WyeHvzGpT32Ha3/Ww7STS2+u3r01Fm+pepm0Ay7sn2ZxsakHhp23o5rvj2eD+D7iYbIxClDoZarTl9v0La/vI4l/E+Jf+oZn9aTnCvKrxCuxXsy8zKr6i3GyMzJtoyKXBS2i1LLHTltrZk5ipKEhx6SrLSiTd04PJpeRIrGT+LYK1v8WxspsRLse1ujW49oJrdh05bBpqrV0OS+u5P2JJzy7BcQN9L4TbNtXeZOF4ksOUvmYgHXfOi+d1KF/xab1G2ygD6AzHFv8AC9V6v643RJsLW6WGeqyf18fsV3sN2Jv4lmY2DjDd2TatYOtitPGy5/VyU1hrCCRzcvKOrKDuB7sXyCXYHB8PK4RflUJwmlcfKrpyLqxbik786ZUYBrarSXsc6JrtsYk92old9wH5EvN8Z+M5CfHZq93iBh1rww2zYPYcp1D9PGpKT0JM214jw9La3qsUPXYjV2IwBV0cFWVgehDKSCPYZWO39o9LX6KD6sPjLj5aeZVXtdWjtHewafVjxX7/AG+Gnn2nEP8AvH4l/Ec/+cyf6sh/ePxL+I5/85k/1Zd3ujvIw/AuK34RBOOxN+FYQdPi2M3dqWJPNZTo0v12SgcgCxZjAzlRtJXR+Yq8atGpKnNtNOzzLq4d5Uc9HVny8nIrGxZj5GTdZRkVMCttFyO7K1d1bNW21JAYkaIBFV4zw5K3HdMXotQXY1jcvM9DkhQ/KSO9pdXx7h01fTaNAalgbl7djMs5FTYTdba+8yMHxJLcoOViqArE+cV1i6pen/EUKi6OU5Pf2Ri/d627J9WWT7nwfy5cizv8P/aJ7PxvuteX+lVss3pP/a/H8L534HjKv2P7J35+Xj4WMvNflWrVX02q72XsfqPQqrDWv1BKoQNkgGjK+wCOoPUEesTfH+z/APIl3VL8byE+NylNOCD+xibBe8dOhyXUcvUjua0Ya7xhJntLGrB4eVXjol2t6fXkfpvaWNWDw8qr10S7W9Pq+42i8mvYKjheDjYGONVY1QQE/KdvGy1/a9thaxj62Yy55DUjKVnJzk5Szbd3zKVlJzk5Szbd3zERE8nkREQBERAEREAREQBERAEREAREQBERAEREAREQBERAEREAREQBERAEREAREQBERAEREAREQBERAEREASV4pwyu6uym1FsrtRq7EYAq6OCrKwPQhgSCJNRPqds0Dj37oLyUNwLil+E5+JJ73DsY673Fckp6RPpWVHdNnXZZOYgCxd4298K/30+8Pznb7iHAaLSDbTVaQNA2Vo5APiAWB0P9JKfArD+iY34FX6JaOG9t3ClGNWk5SSSb3rXfbbdf66kVqbEbk3CdlwVr28bnEzz+v99PvD85c3CMtcmhsUMrXU95kYgDbZgF5srFUAknvEXzmpQP8WmxQCcomdjfgVh/RMb8Cr9E+l7HYg6jFxgR1BFFXT/+Z7qe20JrKg01muutfy+D7ro8x2JNa1F+X7nEkcRr+cT76/nI++FfziffX8520+BmH9ExvwKv0x8DMP6JjfgVfpmX9uYfwH+f+k+f5HP+Ivy/1HFXhfaTuLK7qrUFlTq6EspG1O9MuxzI3yWQ9GUsp6EyodqKqUZLqSq4uSptx9tvk0eW7GLHoz4tvNV4ktV3Nh6XLvs18DMP6JjfgVfokfgdia15rjaGzruKtbOtnXL69Df+g9kxP22hvqaoPsfXWa/Lwfwv2npbElazqL8v3OJXvhX84n31/OPfCv5xPvr+c7afAvD+iY34FX6I+BeH9ExvwKv0TL+3MP4D/Ov/AEPP+Rz/AIi/L/UccezuYmTS+Hzq1ql8jCAbmJsCbyMVQOYnzipO8rUDrkUIi9clt9HPcUeRD3q4YMi9OXN4gEvtDDTVU63j452AQVVjY4PUWWMuyFWZzXsdhjRGLjAgggiirYI8CPR6Ee2VZVkF2xtOGPqurTp7l9Ve9326LX9TPg9iQoYj3mT3pWssreOrztlyIyMRI+SYREQBNZPd4+5/PGOFHJx6+biHDA+RQFAL30cu8nFHQkl1UWVqNbuqrG9M29m5AibWFxE8NVjWhqnf7eOhmo1ZUpqcdUfn9HEa/wB9PvD85Hz+v99PvL+c71fA7E+i434FX6Y+B2J9FxvwKv0ye/tbD+C/z/0kk/zuP7nx+xwaw+O906WVXCu2t1srsV1DJYjBkdevirAEb2OnXc2c8hXkmTtFxDE83UJw+4NfmiromGKCgy8IMuwpex6/N19BvNMmpx1rfXUn4G4f0TG/Aq/TJrA4JTVvuqqqt+Pd1om/9eUDf+81MT7Ub8X0VPdlZq+9f4WWa4fcf59OCfRxs2rXvfx01XA98HCWtErRQiIqoiqNKqqNKoA6AADQE9okZA9SKmvHu1vIP788Kayivmz8DnyMXlG3tTQ7/GHrPfIoKDp8dXVs63OTK5aH9pftnewiUj4HYn0XG/Aq/TNmnWcFYim1NgxxtRVYy3Xazyvfs4o4V+cr+8v2ieuJxTu3SxLOR0ZXR1YBkdCGRlPqZWAIPqInc/4HYf0XG/Aq/THwOw/ouN+BV+mZveu74nGXsm07qt/2/c5ZeSLyTN2h4jiigBcTKZrs8175cQ0lDnULpj3YuZ62xRzDkqy6wAfNrJ1Z4Xw1Ka0qqUJXWioiKNKqIAqqB6gAAJ88P4FRUSaqaqi2uY11ohOvDfKBvX1ydAmbG7Rq4xQjU0irfd99rLwLRq47EYijSpV5bzhHdvpd/vPvaSIxETlGkIiIAiIgCIiAIiIAiIgCIiAIiIAiIgCIiAIiIAiIgCIiAIiIAiIgCIiAIiIAiIgCIiAIiIAiIgCIiAIiIAiIgCIiAIiIAiIgCIiAIiIAiIgCIiAIiIAiIgCIiAIiIAiIgCIiAIiIAiIgCIiAIiIAiIgCIiAIiIAiIgCIiAIiIAiIgCIiAIiIAiIgH//Z)"
      ],
      "metadata": {
        "id": "GT1W9QkBj9eM"
      }
    },
    {
      "cell_type": "code",
      "execution_count": null,
      "metadata": {
        "colab": {
          "base_uri": "https://localhost:8080/"
        },
        "id": "yYnaFmQWl4Lz",
        "outputId": "7c1d278a-5ec4-45a4-a29b-44d76add9713"
      },
      "outputs": [
        {
          "output_type": "execute_result",
          "data": {
            "text/plain": [
              "(2, 1, 2)"
            ]
          },
          "metadata": {},
          "execution_count": 12
        }
      ],
      "source": [
        "import jax.numpy as jnp\n",
        "import numpy as np\n",
        "\n",
        "# >>jnp.newaxis<<\n",
        "\n",
        "a=jnp.array([ [1,2] , [3,4]  ])\n",
        "a.shape\n",
        "b=a[:, jnp.newaxis, :]\n",
        "b.shape"
      ]
    },
    {
      "cell_type": "code",
      "source": [
        "c=np.zeros((4,4))\n",
        "type(c)\n",
        "c[2,3]=16\n",
        "c[0,0]=1\n",
        "c[3,2]=5\n",
        "d=np.array([10,11,12,13])\n",
        "c=np.vstack((c,d))\n"
      ],
      "metadata": {
        "colab": {
          "base_uri": "https://localhost:8080/"
        },
        "id": "mM6HG-0ZooVn",
        "outputId": "adba79fd-28fa-4629-b154-04ba77a7d660"
      },
      "execution_count": 1,
      "outputs": [
        {
          "output_type": "execute_result",
          "data": {
            "text/plain": [
              "array([[ 1.,  0.,  0.,  0.],\n",
              "       [ 0.,  0.,  0.,  0.],\n",
              "       [ 0.,  0.,  0., 16.],\n",
              "       [ 0.,  0.,  5.,  0.],\n",
              "       [10., 11., 12., 13.]])"
            ]
          },
          "metadata": {},
          "execution_count": 1
        }
      ]
    },
    {
      "cell_type": "code",
      "source": [
        "c=c[:, :, np.newaxis]\n",
        "c.shape"
      ],
      "metadata": {
        "colab": {
          "base_uri": "https://localhost:8080/"
        },
        "id": "NIsWEefjqoSG",
        "outputId": "1f4d036f-bd18-4d25-caa8-6993f7111147"
      },
      "execution_count": null,
      "outputs": [
        {
          "output_type": "execute_result",
          "data": {
            "text/plain": [
              "(5, 4, 1)"
            ]
          },
          "metadata": {},
          "execution_count": 106
        }
      ]
    },
    {
      "cell_type": "code",
      "source": [
        "c.shape[-3]"
      ],
      "metadata": {
        "colab": {
          "base_uri": "https://localhost:8080/"
        },
        "id": "qmZATqOKr5qr",
        "outputId": "a425db28-ab9f-4cf0-e561-90d4f74e29ce"
      },
      "execution_count": null,
      "outputs": [
        {
          "output_type": "execute_result",
          "data": {
            "text/plain": [
              "5"
            ]
          },
          "metadata": {},
          "execution_count": 107
        }
      ]
    }
  ]
}